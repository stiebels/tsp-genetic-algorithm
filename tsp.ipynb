{
 "cells": [
  {
   "cell_type": "code",
   "execution_count": 877,
   "metadata": {},
   "outputs": [],
   "source": [
    "import random\n",
    "from operator import itemgetter\n",
    "import numpy as np\n",
    "from scipy.spatial.distance import cdist\n",
    "from matplotlib import pyplot as plt\n",
    "import pandas as pd"
   ]
  },
  {
   "cell_type": "code",
   "execution_count": 402,
   "metadata": {},
   "outputs": [],
   "source": [
    "class Location(object):\n",
    "    def __init__(self, x, y):\n",
    "        self.x = x\n",
    "        self.y = y"
   ]
  },
  {
   "cell_type": "code",
   "execution_count": 403,
   "metadata": {},
   "outputs": [],
   "source": [
    "def compute_sub_distance(subroute: tuple) -> float:\n",
    "    a, b = subroute\n",
    "    avec = np.asarray([a.x, a.y]).reshape(-1, 2)\n",
    "    bvec = np.asarray([b.x, b.y]).reshape(-1, 2)\n",
    "    return cdist(avec, bvec, metric='euclidean')[0][0]"
   ]
  },
  {
   "cell_type": "code",
   "execution_count": 688,
   "metadata": {},
   "outputs": [],
   "source": [
    "def compute_route_distance(route: list) -> float:\n",
    "    route = list(zip(route, route[1::]))\n",
    "    return sum([compute_sub_distance(sub) for sub in route])"
   ]
  },
  {
   "cell_type": "code",
   "execution_count": 453,
   "metadata": {},
   "outputs": [],
   "source": [
    "def make_locations(num_locations: int) -> list:\n",
    "    return [Location(random.uniform(0, 10), random.uniform(0, 10)) for i in range(0, num_locations)]"
   ]
  },
  {
   "cell_type": "code",
   "execution_count": 1019,
   "metadata": {},
   "outputs": [],
   "source": [
    "def make_individual(locations: int) -> list:\n",
    "    locs = locations.copy()\n",
    "    start, end = locs[0:1].copy(), locs[0:1].copy()\n",
    "    middle = locs[1:].copy()\n",
    "    random.shuffle(middle)\n",
    "    return start+middle+end"
   ]
  },
  {
   "cell_type": "code",
   "execution_count": 1020,
   "metadata": {},
   "outputs": [],
   "source": [
    "def make_population(pop_size: int, num_locations: int) -> list:\n",
    "    locations = make_locations(num_locations)\n",
    "    population = list()\n",
    "    for sample in range(0, pop_size):\n",
    "        route = make_individual(locations)\n",
    "        population.append(route)\n",
    "    return population"
   ]
  },
  {
   "cell_type": "code",
   "execution_count": 1021,
   "metadata": {
    "scrolled": true
   },
   "outputs": [],
   "source": [
    "def rank_routes(population: list) -> list:\n",
    "    all_distances = [compute_route_distance(individual) for individual in population]\n",
    "    ranking = list(zip(*sorted(zip(all_distances, population), key=itemgetter(0))))\n",
    "    format_ranking = list()\n",
    "    for ix, distance in enumerate(ranking[0]):\n",
    "        format_ranking.append((distance, ranking[1][ix]))\n",
    "    return format_ranking"
   ]
  },
  {
   "cell_type": "code",
   "execution_count": 1022,
   "metadata": {},
   "outputs": [],
   "source": [
    "def tourn_selection(ranked_pop: list, elite_size: int, tourn_stages: int = 1) -> list:\n",
    "    selected = list()\n",
    "    \n",
    "    # ELITE\n",
    "    elite, rest = ranked_pop[:elite_size], ranked_pop[elite_size:]\n",
    "    selected.append(elite[0][1])\n",
    "    \n",
    "    # TOURNAMENT\n",
    "    stage_participants = rest.copy()\n",
    "    tourn_survivor = None\n",
    "    for stage in range(0, tourn_stages):\n",
    "        stage_survivor = list()\n",
    "        perm = np.random.permutation(len(stage_participants))\n",
    "        rand = np.asarray(stage_participants)[perm]\n",
    "        if len(rand) % 2 > 0:\n",
    "            rand = rand[:-1]\n",
    "        matches = rand.reshape(int(len(rand)/2), 2, 2)\n",
    "        \n",
    "        for (a, b) in matches:\n",
    "            if a[0] <= b[0]:\n",
    "                winner = a\n",
    "            else:\n",
    "                winner = b\n",
    "            stage_survivor.append(winner)\n",
    "        stage_participants = stage_survivor\n",
    "    tourn_survivor = stage_participants  \n",
    "    \n",
    "    survivors = [(fitness, loc) for fitness,loc in elite] + [(fitness, loc) for fitness,loc in np.asarray(tourn_survivor)]\n",
    "            \n",
    "    return survivors"
   ]
  },
  {
   "cell_type": "code",
   "execution_count": 1023,
   "metadata": {},
   "outputs": [],
   "source": [
    "def prob_selection(ranked_pop: list, elite_size: int) -> list:\n",
    "    selected = list()\n",
    "    \n",
    "    perf_fit = ranked_pop[0][0]\n",
    "    \n",
    "    # PROBABILITY OF SURVIVAL DIRECTLY DEPENDS ON DISTANCE\n",
    "    survivors = list()\n",
    "    for distance, route in ranked_pop:\n",
    "        fitness = perf_fit/distance\n",
    "        if np.random.binomial(1, fitness) == 1:\n",
    "            survivors.append((distance, route))\n",
    "            \n",
    "    return survivors"
   ]
  },
  {
   "cell_type": "code",
   "execution_count": 1261,
   "metadata": {},
   "outputs": [],
   "source": [
    "def breed(a: list, b: list) -> list:\n",
    "    child = list()\n",
    "\n",
    "    nums = np.random.randint(1, len(a)-1, 2)\n",
    "    startGene, endGene = min(nums), max(nums)\n",
    "\n",
    "    child = b.copy()\n",
    "    child[startGene:endGene] = a[startGene:endGene]\n",
    "\n",
    "    return child"
   ]
  },
  {
   "cell_type": "code",
   "execution_count": 1262,
   "metadata": {},
   "outputs": [],
   "source": [
    "def breed_population(pool: list, elite_size: int, breed_to_size = None) -> list:\n",
    "    children = []\n",
    "    \n",
    "    elite = [x[1] for x in sorted(pool, key=itemgetter(0))[:elite_size]]\n",
    "    children += elite\n",
    "    \n",
    "    pool = random.sample(pool, len(pool))\n",
    "    \n",
    "    if breed_to_size:\n",
    "        upsample = breed_to_size\n",
    "        pool += random.sample(pool, upsample-len(pool))\n",
    "    else:\n",
    "        upsample = len(pool)-elite_size\n",
    "    for i in range(0, upsample):\n",
    "        child = breed(pool[i][1], pool[len(pool)-i-1][1])\n",
    "        children.append(child)\n",
    "        \n",
    "    return children"
   ]
  },
  {
   "cell_type": "code",
   "execution_count": 1263,
   "metadata": {},
   "outputs": [],
   "source": [
    "def swap_mutate(individual: list, chance: float) -> list: # chance of mutation for each gene\n",
    "    for topos in range(1, len(individual)-1):\n",
    "        if np.random.binomial(1, chance) == 0:\n",
    "            continue\n",
    "            \n",
    "        frompos = int(random.random() * len(individual))\n",
    "        if (frompos in [0, len(individual)-1]) or (frompos == topos):\n",
    "            continue\n",
    "        \n",
    "        loca = individual[frompos]\n",
    "        locb = individual[topos]\n",
    "        individual[frompos] = locb\n",
    "        individual[topos] = loca\n",
    "        \n",
    "    return individual"
   ]
  },
  {
   "cell_type": "code",
   "execution_count": 1264,
   "metadata": {},
   "outputs": [],
   "source": [
    "def swap_mutate_population(population: list, chance: float) -> list:\n",
    "    return [swap_mutate(ind, chance) for ind in population]"
   ]
  },
  {
   "cell_type": "code",
   "execution_count": 1265,
   "metadata": {},
   "outputs": [],
   "source": [
    "def compute_metrics(ranked_pop: list):\n",
    "    mean_dist = np.mean([x[0] for x in ranked_pop])\n",
    "    min_dist = np.min([x[0] for x in ranked_pop])\n",
    "    max_dist = np.max([x[0] for x in ranked_pop])\n",
    "    pop_size = len(ranked_pop)\n",
    "    return {\n",
    "        \"mean_dist\": mean_dist,\n",
    "        \"min_dist\": min_dist,\n",
    "        \"max_dist\": max_dist,\n",
    "        \"pop_size\": pop_size\n",
    "    }"
   ]
  },
  {
   "cell_type": "code",
   "execution_count": 1266,
   "metadata": {},
   "outputs": [],
   "source": [
    "def evolve(population: list, selection: str, elite_size: int, chance: float, breed_to_size: int,\n",
    "           tournament_stages: int = 1) -> list:  \n",
    "    ranked_pop = rank_routes(population)\n",
    "    metrics = compute_metrics(ranked_pop)\n",
    "    if selection == \"prob\":\n",
    "        sel = prob_selection(ranked_pop, elite_size)\n",
    "    elif selection == \"tourn\":\n",
    "        sel = tourn_selection(ranked_pop, elite_size, tournament_stages)\n",
    "    else:\n",
    "        raise ValueError('unknown selection method')\n",
    "    children = breed_population(sel, elite_size, breed_to_size)\n",
    "    next_gen = swap_mutate_population(children, chance)\n",
    "    return next_gen, metrics"
   ]
  },
  {
   "cell_type": "code",
   "execution_count": 1267,
   "metadata": {},
   "outputs": [],
   "source": [
    "def plot_progress(metrics: list, exclude: list = [\"pop_size\"]) -> None:\n",
    "    plt.figure(figsize=(12, 8))\n",
    "    plt.title('Evolutionary Progress', size=20)\n",
    "    plt.xlabel(\"Evolutionary Steps\")\n",
    "    plt.ylabel(\"Total Euclidean Distance Needed\")\n",
    "    keys = list(metrics[0].keys())\n",
    "    print(pd.DataFrame.from_records(total_metrics))\n",
    "    for key in keys:\n",
    "        key_final = dict()\n",
    "        key_values = list()\n",
    "        for run in metrics:\n",
    "            key_values.append(run[key])\n",
    "            \n",
    "        key_final[key] = key_values\n",
    "        \n",
    "        if key not in exclude:\n",
    "            plt.plot(list(key_final.values())[0], label=key)\n",
    "    plt.legend()\n",
    "    plt.show()"
   ]
  },
  {
   "cell_type": "code",
   "execution_count": 1290,
   "metadata": {
    "scrolled": true
   },
   "outputs": [],
   "source": [
    "EVOLUTION_STEPS = 500\n",
    "NUM_INDIVIDUALS = 1000\n",
    "NUM_LOCATIONS = 50\n",
    "ELITE_SIZE = 1\n",
    "MUTATE_CHANCE = 0.01\n",
    "OFFSET_EARLY_STOPPING = 20\n",
    "SOFT_PATIENCE = 50\n",
    "CONVERGENCE_CRITERIUM = 0.01\n",
    "BREED_TO_SIZE = NUM_INDIVIDUALS\n",
    "SELECTION = 'tourn'\n",
    "\n",
    "total_metrics = list()\n",
    "\n",
    "population = make_population(NUM_INDIVIDUALS, NUM_LOCATIONS)\n",
    "min_dist = list()\n",
    "for step in range(0, EVOLUTION_STEPS):\n",
    "    population, metrics = evolve(population, SELECTION, ELITE_SIZE, MUTATE_CHANCE, BREED_TO_SIZE)\n",
    "    total_metrics.append(metrics)\n",
    "    min_dist.append(metrics[\"min_dist\"])\n",
    "    if (len(min_dist) >= OFFSET_EARLY_STOPPING):\n",
    "        cum_diff = [abs(t - s) for s, t in zip(min_dist[-SOFT_PATIENCE:], min_dist[-SOFT_PATIENCE:][1:]) if (t - s) < 0]\n",
    "        if np.mean(cum_diff) <= 0.5:\n",
    "            break"
   ]
  },
  {
   "cell_type": "code",
   "execution_count": 1291,
   "metadata": {},
   "outputs": [
    {
     "name": "stdout",
     "output_type": "stream",
     "text": [
      "       max_dist   mean_dist    min_dist  pop_size\n",
      "0    292.600615  252.669883  205.839039      1000\n",
      "1    301.382469  244.287343  200.868517      1001\n",
      "2    285.088791  236.803056  180.774675      1001\n",
      "3    274.091449  229.367214  179.114137      1001\n",
      "4    270.374233  222.078122  157.839978      1001\n",
      "5    262.306606  215.216251  157.839978      1001\n",
      "6    253.371669  207.207397  151.909861      1001\n",
      "7    259.260557  200.837126  150.710780      1001\n",
      "8    244.598913  194.382217  146.226957      1001\n",
      "9    241.943403  188.186525  128.778456      1001\n",
      "10   233.690369  182.535432  120.619332      1001\n",
      "11   221.459290  176.605482  115.530674      1001\n",
      "12   223.585286  170.322746  112.664626      1001\n",
      "13   207.348182  164.340030  112.664626      1001\n",
      "14   210.107761  159.136644  101.619704      1001\n",
      "15   203.926463  153.724512  101.619704      1001\n",
      "16   194.727295  148.177694  101.619704      1001\n",
      "17   182.745150  142.250572  101.298458      1001\n",
      "18   188.697074  135.455793   91.633747      1001\n",
      "19   185.869646  129.196886   87.243417      1001\n",
      "20   170.030123  123.513156   87.115517      1001\n",
      "21   161.046044  117.630012   78.177398      1001\n",
      "22   157.787894  112.036413   70.204836      1001\n",
      "23   152.636178  106.576026   70.204836      1001\n",
      "24   139.403915  102.180730   64.752694      1001\n",
      "25   140.768003   97.122102   64.752694      1001\n",
      "26   123.001464   92.151138   60.673802      1001\n",
      "27   122.207095   86.769997   60.673802      1001\n",
      "28   113.258274   82.436034   57.762114      1001\n",
      "29   105.934601   78.182505   54.771541      1001\n",
      "..          ...         ...         ...       ...\n",
      "73    20.248584   13.722918    8.984632      1001\n",
      "74    21.132428   13.245013    9.005022      1001\n",
      "75    20.669333   12.823657    8.929075      1001\n",
      "76    19.153319   12.403147    8.605196      1001\n",
      "77    19.233557   11.953942    7.736088      1001\n",
      "78    17.759699   11.509496    7.736088      1001\n",
      "79    17.184024   11.223652    7.732426      1001\n",
      "80    16.409574   10.852140    7.736088      1001\n",
      "81    16.670788   10.619465    7.424677      1001\n",
      "82    17.266158   10.312829    7.636049      1001\n",
      "83    16.676087   10.058529    7.424677      1001\n",
      "84    15.088407    9.830326    7.242274      1001\n",
      "85    15.109552    9.659397    6.918396      1001\n",
      "86    14.650367    9.593261    6.805889      1001\n",
      "87    15.128297    9.433548    6.805889      1001\n",
      "88    14.907223    9.317371    6.805889      1001\n",
      "89    14.812021    9.183550    6.397484      1001\n",
      "90    14.687646    9.022188    6.397484      1001\n",
      "91    14.883691    8.948286    6.397484      1001\n",
      "92    14.202556    8.774978    6.397484      1001\n",
      "93    13.870755    8.695457    6.130544      1001\n",
      "94    13.383091    8.576643    6.114425      1001\n",
      "95    14.292703    8.472783    5.806677      1001\n",
      "96    14.179591    8.356212    6.114425      1001\n",
      "97    14.977676    8.271554    6.114425      1001\n",
      "98    14.309617    8.185859    6.114425      1001\n",
      "99    14.160063    8.049047    5.806677      1001\n",
      "100   13.350314    7.922911    5.806677      1001\n",
      "101   14.844911    7.842014    5.806677      1001\n",
      "102   12.815663    7.752132    5.806677      1001\n",
      "\n",
      "[103 rows x 4 columns]\n"
     ]
    },
    {
     "data": {
      "image/png": "[encoded data removed]",
      "text/plain": [
       "<Figure size 864x576 with 1 Axes>"
      ]
     },
     "metadata": {
      "needs_background": "light"
     },
     "output_type": "display_data"
    }
   ],
   "source": [
    "plot_progress(total_metrics) # \"tourn\""
   ]
  }
 ],
 "metadata": {
  "kernelspec": {
   "display_name": "Python [conda env:craftworks]",
   "language": "python",
   "name": "conda-env-craftworks-py"
  },
  "language_info": {
   "codemirror_mode": {
    "name": "ipython",
    "version": 3
   },
   "file_extension": ".py",
   "mimetype": "text/x-python",
   "name": "python",
   "nbconvert_exporter": "python",
   "pygments_lexer": "ipython3",
   "version": "3.6.7"
  }
 },
 "nbformat": 4,
 "nbformat_minor": 2
}
